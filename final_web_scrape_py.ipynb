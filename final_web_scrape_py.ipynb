{
  "cells": [
    {
      "cell_type": "code",
      "execution_count": 1,
      "metadata": {
        "id": "3mzSdNDUBpL_",
        "colab": {
          "base_uri": "https://localhost:8080/"
        },
        "outputId": "f7c06af1-dfc9-4c2c-82f4-d5e41de20da6"
      },
      "outputs": [
        {
          "output_type": "stream",
          "name": "stdout",
          "text": [
            "Looking in indexes: https://pypi.org/simple, https://us-python.pkg.dev/colab-wheels/public/simple/\n",
            "Collecting BeautifulSoup\n",
            "  Downloading BeautifulSoup-3.2.2.tar.gz (32 kB)\n",
            "  \u001b[1;31merror\u001b[0m: \u001b[1msubprocess-exited-with-error\u001b[0m\n",
            "  \n",
            "  \u001b[31m×\u001b[0m \u001b[32mpython setup.py egg_info\u001b[0m did not run successfully.\n",
            "  \u001b[31m│\u001b[0m exit code: \u001b[1;36m1\u001b[0m\n",
            "  \u001b[31m╰─>\u001b[0m See above for output.\n",
            "  \n",
            "  \u001b[1;35mnote\u001b[0m: This error originates from a subprocess, and is likely not a problem with pip.\n",
            "  Preparing metadata (setup.py) ... \u001b[?25l\u001b[?25herror\n",
            "\u001b[1;31merror\u001b[0m: \u001b[1mmetadata-generation-failed\u001b[0m\n",
            "\n",
            "\u001b[31m×\u001b[0m Encountered error while generating package metadata.\n",
            "\u001b[31m╰─>\u001b[0m See above for output.\n",
            "\n",
            "\u001b[1;35mnote\u001b[0m: This is an issue with the package mentioned above, not pip.\n",
            "\u001b[1;36mhint\u001b[0m: See above for details.\n"
          ]
        }
      ],
      "source": [
        "pip install BeautifulSoup"
      ]
    },
    {
      "cell_type": "code",
      "execution_count": 2,
      "metadata": {
        "id": "A6KWGMOb1tJP",
        "colab": {
          "base_uri": "https://localhost:8080/"
        },
        "outputId": "1fbad9e9-f612-4775-8476-ab0325c63baf"
      },
      "outputs": [
        {
          "output_type": "stream",
          "name": "stdout",
          "text": [
            "Looking in indexes: https://pypi.org/simple, https://us-python.pkg.dev/colab-wheels/public/simple/\n",
            "Requirement already satisfied: requests in /usr/local/lib/python3.8/dist-packages (2.25.1)\n",
            "Requirement already satisfied: chardet<5,>=3.0.2 in /usr/local/lib/python3.8/dist-packages (from requests) (4.0.0)\n",
            "Requirement already satisfied: certifi>=2017.4.17 in /usr/local/lib/python3.8/dist-packages (from requests) (2022.12.7)\n",
            "Requirement already satisfied: urllib3<1.27,>=1.21.1 in /usr/local/lib/python3.8/dist-packages (from requests) (1.24.3)\n",
            "Requirement already satisfied: idna<3,>=2.5 in /usr/local/lib/python3.8/dist-packages (from requests) (2.10)\n"
          ]
        }
      ],
      "source": [
        "pip install requests"
      ]
    },
    {
      "cell_type": "code",
      "execution_count": 3,
      "metadata": {
        "id": "CJqLNt_C13OL"
      },
      "outputs": [],
      "source": [
        "import requests\n",
        "from bs4 import BeautifulSoup"
      ]
    },
    {
      "cell_type": "code",
      "execution_count": 4,
      "metadata": {
        "id": "Ipgsx9UC1_I6",
        "colab": {
          "base_uri": "https://localhost:8080/"
        },
        "outputId": "c8f00ca6-dd45-4dd3-9268-46f589163378"
      },
      "outputs": [
        {
          "output_type": "stream",
          "name": "stdout",
          "text": [
            "Enter the pages :5\n",
            "phone in page1\n",
            "24\n",
            "phone in page2\n",
            "24\n",
            "phone in page3\n",
            "24\n",
            "phone in page4\n",
            "24\n",
            "phone in page5\n",
            "24\n"
          ]
        }
      ],
      "source": [
        "phn_nm=[]\n",
        "phn_pr=[]\n",
        "\n",
        "page_num = input(\"Enter the pages :\")\n",
        "for i in range(1,int(page_num)+1):\n",
        "   url=\"https://www.flipkart.com/search?q=redmi+mobile&sid=tyy%2C4io&as=on&as-show=on&otracker=AS_QueryStore_OrganicAutoSuggest_1_5_na_na_na&otracker1=AS_QueryStore_OrganicAutoSuggest_1_5_na_na_na&as-pos=1&as-type=RECENT&suggestionId=redmi+mobile%7CMobiles&requestId=c9a3e325-64c7-47df-b9b9-3ddb9684f5dd&as-backfill=on&page=\"+str(i)\n",
        "   req=requests.get(url)\n",
        "   content=BeautifulSoup(req.content,'html.parser')\n",
        "   #print(content)\n",
        "   name=content.find_all('div',{'class':\"_4rR01T\"})\n",
        "   price=content.find_all('div',{'class':\"_30jeq3 _1_WHN1\"})\n",
        "   print(\"phone in page\"+str(i))\n",
        "   print(len(name))\n",
        "\n",
        "   for i in name:\n",
        "     phn_nm.append(i.text)\n",
        "   for i in price:\n",
        "      phn_pr.append(i.text)"
      ]
    },
    {
      "cell_type": "code",
      "execution_count": 5,
      "metadata": {
        "colab": {
          "base_uri": "https://localhost:8080/"
        },
        "id": "akXY6ErL33FK",
        "outputId": "677e0987-4f6b-4ee3-8d82-67caf6ac6699"
      },
      "outputs": [
        {
          "output_type": "stream",
          "name": "stdout",
          "text": [
            "REDMI 9i Sport (Coral Green, 64 GB)\n",
            "REDMI Note 11 SE (Cosmic White, 64 GB)\n",
            "REDMI 9i Sport (Carbon Black, 64 GB)\n",
            "REDMI 10 (Midnight Black, 64 GB)\n",
            "REDMI 10 (Pacific Blue, 64 GB)\n",
            "REDMI 10 (Caribbean Green, 64 GB)\n",
            "REDMI 9i Sport (Metallic Blue, 64 GB)\n",
            "REDMI 10 (Caribbean Green, 128 GB)\n",
            "REDMI A1 (Black, 32 GB)\n",
            "REDMI Note 10S (Frost White, 64 GB)\n",
            "REDMI 10 (Midnight Black, 128 GB)\n",
            "REDMI 10 (Pacific Blue, 128 GB)\n",
            "REDMI A1 (Light Green, 32 GB)\n",
            "REDMI 10A (Sea Blue, 64 GB)\n",
            "REDMI 10 Prime (Phantom Black, 128 GB)\n",
            "REDMI Note 11 SE (Bifrost Blue, 64 GB)\n",
            "REDMI 10A (Charcoal Black, 64 GB)\n",
            "REDMI 10A SPORT (SEA BLUE, 128 GB)\n",
            "REDMI 10A SPORT (SLATE GREY, 128 GB)\n",
            "REDMI 10A SPORT (SLATE GREY, 128 GB)\n",
            "REDMI 10 Prime (Astral White, 128 GB)\n",
            "REDMI A1 (Light Blue, 32 GB)\n",
            "REDMI 9 Activ (Carbon Black, 128 GB)\n",
            "REDMI Note 10T 5G (Mint Green, 128 GB)\n",
            "REDMI 9 Power (Electric Green, 64 GB)\n",
            "REDMI Note 10T 5G (Mint Green, 128 GB)\n",
            "REDMI 9 Activ (Coral Green, 128 GB)\n",
            "REDMI Note 11 SE (Thunder Purple, 64 GB)\n",
            "REDMI Note 11 SE (Space Black, 64 GB)\n",
            "REDMI 9 Activ (Metallic Purple, 64 GB)\n",
            "REDMI 9i (Sea Blue, 64 GB)\n",
            "REDMI 10 Prime 2022 (Phantom Black, 64 GB)\n",
            "REDMI 10A (Charcoal Black, 64 GB)\n",
            "REDMI 11 Prime 5G (Thunder Black, 64 GB)\n",
            "REDMI 10A SPORT (SEA BLUE, 128 GB)\n",
            "REDMI Note 11S (Horizon Blue, 64 GB)\n",
            "REDMI Note 11S (Horizon Blue, 128 GB)\n",
            "REDMI Note 10S (Deep Sea Blue, 64 GB)\n",
            "REDMI 9 Activ (Coral Green, 64 GB)\n",
            "REDMI Note 11 (Space Black, 64 GB)\n",
            "REDMI Note 10 Pro (Vintage Bronze, 128 GB)\n",
            "REDMI A1 (Light Blue, 32 GB)\n",
            "REDMI A1 (Light Green, 32 GB)\n",
            "REDMI A1 (Black, 32 GB)\n",
            "REDMI 11 Prime 5G (Chrome Silver, 64 GB)\n",
            "REDMI A1+ (Light Green, 32 GB)\n",
            "REDMI 11 Prime 5G (Thunder Black, 64 GB)\n",
            "REDMI Note 10S (Shadow Black, 128 GB)\n",
            "REDMI 11 Prime 5G (Chrome Silver, 128 GB)\n",
            "REDMI 11 Prime 5G (Meadow Green, 64 GB)\n",
            "REDMI 11 Prime 5G (Meadow Green, 64 GB)\n",
            "REDMI Note 11S (Horizon Blue, 128 GB)\n",
            "REDMI Note 10S (Deep Sea Blue, 128 GB)\n",
            "REDMI Note 10T 5G (Mint Green, 64 GB)\n",
            "REDMI 9 Prime (Matte Black, 64 GB)\n",
            "REDMI 9 Activ (Metallic Purple, 128 GB)\n",
            "REDMI Note 10S (Cosmic Purple, 64 GB)\n",
            "REDMI 10 Prime 2022 (Astral White, 64 GB)\n",
            "REDMI 9 Activ (Carbon Black, 64 GB)\n",
            "REDMI 11 Prime (Peppy Purple, 64 GB)\n",
            "REDMI Note 11S (Horizon Blue, 128 GB)\n",
            "REDMI Note 10T 5G (Metallic Blue, 64 GB)\n",
            "REDMI 9 Power (Fiery Red, 64 GB)\n",
            "REDMI Note 11S (Polar White, 128 GB)\n",
            "REDMI NOTE 10 LITE (Aurora Blue, 128 GB)\n",
            "REDMI Note 10 Pro Max (Dark Night, 128 GB)\n",
            "REDMI 11 Prime (Peppy Purple, 128 GB)\n",
            "REDMI 9i (Nature Green, 64 GB)\n",
            "REDMI Note 11S (Horizon Blue, 128 GB)\n",
            "REDMI K50i 5G (Stealth Black, 128 GB)\n",
            "REDMI 9i (Midnight Black, 64 GB)\n",
            "REDMI Note 10 Lite (Glacier White, 128 GB)\n",
            "REDMI K50i (Quick Silver, 256 GB)\n",
            "REDMI 11 Prime (Playful Green, 64 GB)\n",
            "REDMI A1+ (Light Blue, 32 GB)\n",
            "REDMI Note 10T 5G (Chromium Silver, 64 GB)\n",
            "REDMI 11 Prime 5G (Chrome Silver, 64 GB)\n",
            "REDMI Note 9 (Scarlet Red, 128 GB)\n",
            "REDMI NOTE 10 LITE (Champagne Gold, 128 GB)\n",
            "REDMI Note 10T 5G (Graphite Black, 128 GB)\n",
            "REDMI 11 Prime 5G (Meadow Green, 128 GB)\n",
            "REDMI NOTE 10 LITE (Aurora Blue, 64 GB)\n",
            "REDMI Note 11S (Polar White, 128 GB)\n",
            "REDMI A1+ (Black, 32 GB)\n",
            "REDMI Note 9 (Pebble Grey, 128 GB)\n",
            "REDMI Note 11S (Space Black, 128 GB)\n",
            "REDMI Note 11S (Polar White, 128 GB)\n",
            "REDMI Note 10 Pro Max (Dark Nebula, 128 GB)\n",
            "REDMI Note 10 Pro Max (Vintage Bronze, 128 GB)\n",
            "REDMI 11 Prime (FlashyBlack, 128 GB)\n",
            "REDMI A1+ (Light Blue, 32 GB)\n",
            "REDMI Note 10S (Frost White, 128 GB)\n",
            "REDMI Note 9 (Shadow Black, 128 GB)\n",
            "REDMI 9 Prime (Matte Black, 128 GB)\n",
            "REDMI NOTE 10 LITE (Glacier White, 64 GB)\n",
            "REDMI Note 9 (Shadow Black, 128 GB)\n",
            "REDMI 10 Prime 2022 (Bifrost Blue, 64 GB)\n",
            "REDMI 11 Prime (Flashy Black, 64 GB)\n",
            "REDMI A1+ (Black, 32 GB)\n",
            "REDMI Note 9 (Scarlet Red, 128 GB)\n",
            "REDMI Note 10S (Frost White, 128 GB)\n",
            "REDMI 9 Power (Mighty Black, 64 GB)\n",
            "REDMI Note 9 (Arctic White, 128 GB)\n",
            "REDMI Note 10S (Cosmic Purple, 128 GB)\n",
            "REDMI 10A (Sea Blue, 32 GB)\n",
            "REDMI Note 10S (Deep Sea Blue, 128 GB)\n",
            "REDMI K50i 5G (Stealth Black, 256 GB)\n",
            "REDMI 10 Prime 2022 (Bifrost Blue, 64 GB)\n",
            "REDMI 8A Dual (Sky White, 32 GB)\n",
            "REDMI K50i (Quick Silver, 128 GB)\n",
            "REDMI K50i 5G (Phantom Blue, 128 GB)\n",
            "REDMI 9 Power (Electric Green, 128 GB)\n",
            "REDMI 9 Power (Fiery Red, 128 GB)\n",
            "REDMI 10A SPORT (CHARCOAL BLACK, 128 GB)\n",
            "REDMI Note 8 Pro (Shadow Black, 64 GB)\n",
            "REDMI Note 9 (Aqua Green, 128 GB)\n",
            "REDMI Note 11S (Space Black, 128 GB)\n",
            "REDMI 10A (Slate Grey, 32 GB)\n",
            "REDMI Note 10S (Shadow Black, 64 GB)\n",
            "REDMI Note 10 (Aqua Green, 64 GB)\n"
          ]
        }
      ],
      "source": [
        "for i in phn_nm:\n",
        "  print(i)"
      ]
    },
    {
      "cell_type": "code",
      "execution_count": 6,
      "metadata": {
        "colab": {
          "base_uri": "https://localhost:8080/"
        },
        "id": "BCL7sYo18nhq",
        "outputId": "ec321b8b-456b-41d5-945e-2d8b28b16e2f"
      },
      "outputs": [
        {
          "output_type": "stream",
          "name": "stdout",
          "text": [
            "₹7,199\n",
            "₹11,499\n",
            "₹7,199\n",
            "₹9,999\n",
            "₹9,999\n",
            "₹9,999\n",
            "₹7,199\n",
            "₹11,999\n",
            "₹6,245\n",
            "₹12,999\n",
            "₹11,999\n",
            "₹11,999\n",
            "₹6,398\n",
            "₹8,970\n",
            "₹12,999\n",
            "₹11,499\n",
            "₹8,785\n",
            "₹9,995\n",
            "₹10,473\n",
            "₹10,472\n",
            "₹12,999\n",
            "₹6,185\n",
            "₹10,499\n",
            "₹14,999\n",
            "₹11,499\n",
            "₹14,999\n",
            "₹10,499\n",
            "₹11,499\n",
            "₹11,499\n",
            "₹8,690\n",
            "₹8,999\n",
            "₹11,999\n",
            "₹8,965\n",
            "₹13,299\n",
            "₹10,438\n",
            "₹16,499\n",
            "₹15,598\n",
            "₹12,999\n",
            "₹9,999\n",
            "₹12,890\n",
            "₹17,999\n",
            "₹6,462\n",
            "₹6,470\n",
            "₹6,570\n",
            "₹13,800\n",
            "₹7,499\n",
            "₹14,099\n",
            "₹16,499\n",
            "₹16,499\n",
            "₹13,800\n",
            "₹13,099\n",
            "₹16,180\n",
            "₹16,499\n",
            "₹12,999\n",
            "₹11,490\n",
            "₹10,499\n",
            "₹12,999\n",
            "₹11,895\n",
            "₹8,449\n",
            "₹12,320\n",
            "₹16,990\n",
            "₹12,999\n",
            "₹11,499\n",
            "₹16,125\n",
            "₹14,380\n",
            "₹19,999\n",
            "₹14,199\n",
            "₹8,999\n",
            "₹15,999\n",
            "₹23,500\n",
            "₹8,999\n",
            "₹14,399\n",
            "₹27,999\n",
            "₹11,937\n",
            "₹7,499\n",
            "₹12,999\n",
            "₹14,296\n",
            "₹14,989\n",
            "₹14,755\n",
            "₹14,999\n",
            "₹16,480\n",
            "₹13,480\n",
            "₹16,999\n",
            "₹7,499\n",
            "₹14,999\n",
            "₹16,900\n",
            "₹17,989\n",
            "₹19,999\n",
            "₹19,999\n",
            "₹14,354\n",
            "₹8,499\n",
            "₹16,499\n",
            "₹13,990\n",
            "₹12,490\n",
            "₹13,990\n",
            "₹14,999\n",
            "₹12,689\n",
            "₹11,835\n",
            "₹8,499\n",
            "₹13,499\n",
            "₹16,499\n",
            "₹12,990\n",
            "₹13,990\n",
            "₹16,499\n",
            "₹9,999\n",
            "₹16,499\n",
            "₹28,990\n",
            "₹12,999\n",
            "₹7,499\n",
            "₹25,199\n",
            "₹25,989\n",
            "₹13,990\n",
            "₹16,849\n",
            "₹10,228\n",
            "₹16,999\n",
            "₹14,599\n",
            "₹15,999\n",
            "₹7,999\n",
            "₹13,690\n",
            "₹14,050\n"
          ]
        }
      ],
      "source": [
        "for i in phn_pr:\n",
        "  print(i)"
      ]
    },
    {
      "cell_type": "code",
      "execution_count": 7,
      "metadata": {
        "colab": {
          "base_uri": "https://localhost:8080/"
        },
        "id": "NWS1idIm8oqH",
        "outputId": "0910010a-0999-4615-b65f-1cdf4d5ebf80"
      },
      "outputs": [
        {
          "output_type": "stream",
          "name": "stdout",
          "text": [
            "Looking in indexes: https://pypi.org/simple, https://us-python.pkg.dev/colab-wheels/public/simple/\n",
            "Requirement already satisfied: pandas in /usr/local/lib/python3.8/dist-packages (1.3.5)\n",
            "Requirement already satisfied: python-dateutil>=2.7.3 in /usr/local/lib/python3.8/dist-packages (from pandas) (2.8.2)\n",
            "Requirement already satisfied: pytz>=2017.3 in /usr/local/lib/python3.8/dist-packages (from pandas) (2022.7)\n",
            "Requirement already satisfied: numpy>=1.17.3 in /usr/local/lib/python3.8/dist-packages (from pandas) (1.21.6)\n",
            "Requirement already satisfied: six>=1.5 in /usr/local/lib/python3.8/dist-packages (from python-dateutil>=2.7.3->pandas) (1.15.0)\n"
          ]
        }
      ],
      "source": [
        "pip install pandas"
      ]
    },
    {
      "cell_type": "code",
      "execution_count": 8,
      "metadata": {
        "id": "R4vRJL7k98vV"
      },
      "outputs": [],
      "source": [
        "import pandas as pd"
      ]
    },
    {
      "cell_type": "code",
      "execution_count": 9,
      "metadata": {
        "colab": {
          "base_uri": "https://localhost:8080/"
        },
        "id": "lE7mwThB-AUQ",
        "outputId": "4a513710-82c3-45fe-b0f6-f387ed3d7dc9"
      },
      "outputs": [
        {
          "output_type": "stream",
          "name": "stdout",
          "text": [
            "                                 phone name phone price\n",
            "0       REDMI 9i Sport (Coral Green, 64 GB)      ₹7,199\n",
            "1    REDMI Note 11 SE (Cosmic White, 64 GB)     ₹11,499\n",
            "2      REDMI 9i Sport (Carbon Black, 64 GB)      ₹7,199\n",
            "3          REDMI 10 (Midnight Black, 64 GB)      ₹9,999\n",
            "4            REDMI 10 (Pacific Blue, 64 GB)      ₹9,999\n",
            "..                                      ...         ...\n",
            "115       REDMI Note 9 (Aqua Green, 128 GB)     ₹14,599\n",
            "116    REDMI Note 11S (Space Black, 128 GB)     ₹15,999\n",
            "117           REDMI 10A (Slate Grey, 32 GB)      ₹7,999\n",
            "118    REDMI Note 10S (Shadow Black, 64 GB)     ₹13,690\n",
            "119       REDMI Note 10 (Aqua Green, 64 GB)     ₹14,050\n",
            "\n",
            "[120 rows x 2 columns]\n"
          ]
        }
      ],
      "source": [
        "data={'phone name':phn_nm,'phone price':phn_pr}\n",
        "df=pd.DataFrame(data)\n",
        "print(df)"
      ]
    },
    {
      "cell_type": "code",
      "source": [
        "df.to_csv('web scrape.csv', index=False)"
      ],
      "metadata": {
        "id": "kB5ysJiFaH3_"
      },
      "execution_count": 10,
      "outputs": []
    },
    {
      "cell_type": "code",
      "source": [
        "df_saved_file = pd.read_csv('web scrape.csv')\n",
        "df_saved_file"
      ],
      "metadata": {
        "colab": {
          "base_uri": "https://localhost:8080/",
          "height": 424
        },
        "id": "qvueaqrUaUVP",
        "outputId": "34df9366-aa36-4f8e-b94d-a48765705b9e"
      },
      "execution_count": 11,
      "outputs": [
        {
          "output_type": "execute_result",
          "data": {
            "text/plain": [
              "                                 phone name phone price\n",
              "0       REDMI 9i Sport (Coral Green, 64 GB)      ₹7,199\n",
              "1    REDMI Note 11 SE (Cosmic White, 64 GB)     ₹11,499\n",
              "2      REDMI 9i Sport (Carbon Black, 64 GB)      ₹7,199\n",
              "3          REDMI 10 (Midnight Black, 64 GB)      ₹9,999\n",
              "4            REDMI 10 (Pacific Blue, 64 GB)      ₹9,999\n",
              "..                                      ...         ...\n",
              "115       REDMI Note 9 (Aqua Green, 128 GB)     ₹14,599\n",
              "116    REDMI Note 11S (Space Black, 128 GB)     ₹15,999\n",
              "117           REDMI 10A (Slate Grey, 32 GB)      ₹7,999\n",
              "118    REDMI Note 10S (Shadow Black, 64 GB)     ₹13,690\n",
              "119       REDMI Note 10 (Aqua Green, 64 GB)     ₹14,050\n",
              "\n",
              "[120 rows x 2 columns]"
            ],
            "text/html": [
              "\n",
              "  <div id=\"df-7355a2f2-e507-4c85-a2f3-bd5919f2866e\">\n",
              "    <div class=\"colab-df-container\">\n",
              "      <div>\n",
              "<style scoped>\n",
              "    .dataframe tbody tr th:only-of-type {\n",
              "        vertical-align: middle;\n",
              "    }\n",
              "\n",
              "    .dataframe tbody tr th {\n",
              "        vertical-align: top;\n",
              "    }\n",
              "\n",
              "    .dataframe thead th {\n",
              "        text-align: right;\n",
              "    }\n",
              "</style>\n",
              "<table border=\"1\" class=\"dataframe\">\n",
              "  <thead>\n",
              "    <tr style=\"text-align: right;\">\n",
              "      <th></th>\n",
              "      <th>phone name</th>\n",
              "      <th>phone price</th>\n",
              "    </tr>\n",
              "  </thead>\n",
              "  <tbody>\n",
              "    <tr>\n",
              "      <th>0</th>\n",
              "      <td>REDMI 9i Sport (Coral Green, 64 GB)</td>\n",
              "      <td>₹7,199</td>\n",
              "    </tr>\n",
              "    <tr>\n",
              "      <th>1</th>\n",
              "      <td>REDMI Note 11 SE (Cosmic White, 64 GB)</td>\n",
              "      <td>₹11,499</td>\n",
              "    </tr>\n",
              "    <tr>\n",
              "      <th>2</th>\n",
              "      <td>REDMI 9i Sport (Carbon Black, 64 GB)</td>\n",
              "      <td>₹7,199</td>\n",
              "    </tr>\n",
              "    <tr>\n",
              "      <th>3</th>\n",
              "      <td>REDMI 10 (Midnight Black, 64 GB)</td>\n",
              "      <td>₹9,999</td>\n",
              "    </tr>\n",
              "    <tr>\n",
              "      <th>4</th>\n",
              "      <td>REDMI 10 (Pacific Blue, 64 GB)</td>\n",
              "      <td>₹9,999</td>\n",
              "    </tr>\n",
              "    <tr>\n",
              "      <th>...</th>\n",
              "      <td>...</td>\n",
              "      <td>...</td>\n",
              "    </tr>\n",
              "    <tr>\n",
              "      <th>115</th>\n",
              "      <td>REDMI Note 9 (Aqua Green, 128 GB)</td>\n",
              "      <td>₹14,599</td>\n",
              "    </tr>\n",
              "    <tr>\n",
              "      <th>116</th>\n",
              "      <td>REDMI Note 11S (Space Black, 128 GB)</td>\n",
              "      <td>₹15,999</td>\n",
              "    </tr>\n",
              "    <tr>\n",
              "      <th>117</th>\n",
              "      <td>REDMI 10A (Slate Grey, 32 GB)</td>\n",
              "      <td>₹7,999</td>\n",
              "    </tr>\n",
              "    <tr>\n",
              "      <th>118</th>\n",
              "      <td>REDMI Note 10S (Shadow Black, 64 GB)</td>\n",
              "      <td>₹13,690</td>\n",
              "    </tr>\n",
              "    <tr>\n",
              "      <th>119</th>\n",
              "      <td>REDMI Note 10 (Aqua Green, 64 GB)</td>\n",
              "      <td>₹14,050</td>\n",
              "    </tr>\n",
              "  </tbody>\n",
              "</table>\n",
              "<p>120 rows × 2 columns</p>\n",
              "</div>\n",
              "      <button class=\"colab-df-convert\" onclick=\"convertToInteractive('df-7355a2f2-e507-4c85-a2f3-bd5919f2866e')\"\n",
              "              title=\"Convert this dataframe to an interactive table.\"\n",
              "              style=\"display:none;\">\n",
              "        \n",
              "  <svg xmlns=\"http://www.w3.org/2000/svg\" height=\"24px\"viewBox=\"0 0 24 24\"\n",
              "       width=\"24px\">\n",
              "    <path d=\"M0 0h24v24H0V0z\" fill=\"none\"/>\n",
              "    <path d=\"M18.56 5.44l.94 2.06.94-2.06 2.06-.94-2.06-.94-.94-2.06-.94 2.06-2.06.94zm-11 1L8.5 8.5l.94-2.06 2.06-.94-2.06-.94L8.5 2.5l-.94 2.06-2.06.94zm10 10l.94 2.06.94-2.06 2.06-.94-2.06-.94-.94-2.06-.94 2.06-2.06.94z\"/><path d=\"M17.41 7.96l-1.37-1.37c-.4-.4-.92-.59-1.43-.59-.52 0-1.04.2-1.43.59L10.3 9.45l-7.72 7.72c-.78.78-.78 2.05 0 2.83L4 21.41c.39.39.9.59 1.41.59.51 0 1.02-.2 1.41-.59l7.78-7.78 2.81-2.81c.8-.78.8-2.07 0-2.86zM5.41 20L4 18.59l7.72-7.72 1.47 1.35L5.41 20z\"/>\n",
              "  </svg>\n",
              "      </button>\n",
              "      \n",
              "  <style>\n",
              "    .colab-df-container {\n",
              "      display:flex;\n",
              "      flex-wrap:wrap;\n",
              "      gap: 12px;\n",
              "    }\n",
              "\n",
              "    .colab-df-convert {\n",
              "      background-color: #E8F0FE;\n",
              "      border: none;\n",
              "      border-radius: 50%;\n",
              "      cursor: pointer;\n",
              "      display: none;\n",
              "      fill: #1967D2;\n",
              "      height: 32px;\n",
              "      padding: 0 0 0 0;\n",
              "      width: 32px;\n",
              "    }\n",
              "\n",
              "    .colab-df-convert:hover {\n",
              "      background-color: #E2EBFA;\n",
              "      box-shadow: 0px 1px 2px rgba(60, 64, 67, 0.3), 0px 1px 3px 1px rgba(60, 64, 67, 0.15);\n",
              "      fill: #174EA6;\n",
              "    }\n",
              "\n",
              "    [theme=dark] .colab-df-convert {\n",
              "      background-color: #3B4455;\n",
              "      fill: #D2E3FC;\n",
              "    }\n",
              "\n",
              "    [theme=dark] .colab-df-convert:hover {\n",
              "      background-color: #434B5C;\n",
              "      box-shadow: 0px 1px 3px 1px rgba(0, 0, 0, 0.15);\n",
              "      filter: drop-shadow(0px 1px 2px rgba(0, 0, 0, 0.3));\n",
              "      fill: #FFFFFF;\n",
              "    }\n",
              "  </style>\n",
              "\n",
              "      <script>\n",
              "        const buttonEl =\n",
              "          document.querySelector('#df-7355a2f2-e507-4c85-a2f3-bd5919f2866e button.colab-df-convert');\n",
              "        buttonEl.style.display =\n",
              "          google.colab.kernel.accessAllowed ? 'block' : 'none';\n",
              "\n",
              "        async function convertToInteractive(key) {\n",
              "          const element = document.querySelector('#df-7355a2f2-e507-4c85-a2f3-bd5919f2866e');\n",
              "          const dataTable =\n",
              "            await google.colab.kernel.invokeFunction('convertToInteractive',\n",
              "                                                     [key], {});\n",
              "          if (!dataTable) return;\n",
              "\n",
              "          const docLinkHtml = 'Like what you see? Visit the ' +\n",
              "            '<a target=\"_blank\" href=https://colab.research.google.com/notebooks/data_table.ipynb>data table notebook</a>'\n",
              "            + ' to learn more about interactive tables.';\n",
              "          element.innerHTML = '';\n",
              "          dataTable['output_type'] = 'display_data';\n",
              "          await google.colab.output.renderOutput(dataTable, element);\n",
              "          const docLink = document.createElement('div');\n",
              "          docLink.innerHTML = docLinkHtml;\n",
              "          element.appendChild(docLink);\n",
              "        }\n",
              "      </script>\n",
              "    </div>\n",
              "  </div>\n",
              "  "
            ]
          },
          "metadata": {},
          "execution_count": 11
        }
      ]
    }
  ],
  "metadata": {
    "colab": {
      "provenance": [],
      "toc_visible": true
    },
    "kernelspec": {
      "display_name": "Python 3",
      "name": "python3"
    },
    "language_info": {
      "name": "python"
    }
  },
  "nbformat": 4,
  "nbformat_minor": 0
}